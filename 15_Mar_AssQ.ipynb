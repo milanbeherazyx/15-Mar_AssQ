{
 "cells": [
  {
   "attachments": {},
   "cell_type": "markdown",
   "metadata": {},
   "source": [
    "# Q1: Explain the following with an example:\n",
    ">1. Artificial Intelligence\n",
    ">2. Machine Learning\n",
    ">3. Deep Learning"
   ]
  },
  {
   "attachments": {},
   "cell_type": "markdown",
   "metadata": {},
   "source": [
    ">Artificial Intelligence (AI) refers to the development of computer systems that can perform tasks that typically require human intelligence, such as visual perception, speech recognition, decision-making, and natural language processing. AI systems can be trained to perform these tasks by analyzing and learning from large amounts of data.\n",
    ">Example: A self-driving car that can navigate through traffic, identify obstacles, and make decisions based on real-time data and environmental conditions.\n",
    "\n",
    ">Machine Learning (ML) is a subset of AI that involves training computer algorithms to make predictions or decisions based on data. ML algorithms can learn and improve over time as they are exposed to more data.\n",
    ">Example: A spam filter that can identify and filter out unwanted emails based on patterns and characteristics that it has learned from analyzing large amounts of data.\n",
    "\n",
    ">Deep Learning (DL) is a type of ML that uses artificial neural networks, which are modeled after the human brain, to learn and make predictions based on complex data. DL algorithms can be trained to perform tasks such as image recognition, speech recognition, and natural language processing.\n",
    ">Example: A computer vision system that can accurately identify and classify objects in an image by analyzing its features and patterns, such as color, shape, and texture."
   ]
  },
  {
   "attachments": {},
   "cell_type": "markdown",
   "metadata": {},
   "source": [
    "# Q2: What is supervised learning? List some examples of supervised learning."
   ]
  },
  {
   "attachments": {},
   "cell_type": "markdown",
   "metadata": {},
   "source": [
    ">Supervised learning is a type of machine learning where the algorithm is trained on a labeled dataset, where the inputs (features) and their corresponding outputs (labels) are known. The goal is to predict the correct output given new inputs that have not been seen before.\n",
    "\n",
    ">Examples of supervised learning include:\n",
    "\n",
    "- Image classification - where the algorithm is trained on labeled images and learns to classify new images into different categories, such as dogs and cats.\n",
    "- Sentiment analysis - where the algorithm is trained on labeled text data and learns to classify new text as positive, negative, or neutral.\n",
    "- Spam detection - where the algorithm is trained on labeled email data and learns to classify new emails as spam or not spam.- Regression - where the algorithm is trained on labeled data and learns to predict a continuous output, such as the price of a house based on its features.\n",
    "- Fraud detection - where the algorithm is trained on labeled transaction data and learns to classify new transactions as fraudulent or not."
   ]
  },
  {
   "attachments": {},
   "cell_type": "markdown",
   "metadata": {},
   "source": [
    "# Q3: What is unsupervised learning? List some examples of unsupervised learning."
   ]
  },
  {
   "attachments": {},
   "cell_type": "markdown",
   "metadata": {},
   "source": [
    ">Unsupervised learning is a type of machine learning where the algorithm is trained on an unlabeled dataset, where the inputs (features) are known but the corresponding outputs (labels) are unknown. The goal is to discover hidden patterns, structures, or relationships in the data without prior knowledge of what the output should be.\n",
    "\n",
    "> Examples of unsupervised learning include:\n",
    "\n",
    "- Clustering - where the algorithm groups similar data points together based on their features, such as customer segmentation based on their purchasing behavior.\n",
    "- Anomaly detection - where the algorithm identifies unusual or abnormal data points that do not fit the expected patterns, such as identifying fraudulent transactions in a financial dataset.\n",
    "- Dimensionality reduction - where the algorithm reduces the number of features in the data while retaining the most important information, such as compressing an image while preserving its visual content.\n",
    "- Association rule learning - where the algorithm discovers rules or relationships between different features in the data, such as identifying which products are often bought together in a retail store.\n",
    "- Generative models - where the algorithm learns to generate new data that is similar to the input data, such as generating realistic images or music."
   ]
  },
  {
   "attachments": {},
   "cell_type": "markdown",
   "metadata": {},
   "source": [
    "# Q4: What is the difference between AI, ML, DL, and DS?"
   ]
  },
  {
   "attachments": {},
   "cell_type": "markdown",
   "metadata": {},
   "source": [
    "> AI, ML, DL, and DS are all related fields, but they have distinct differences.\n",
    "\n",
    "> AI (Artificial Intelligence) is a broad field that involves developing computer systems that can perform tasks that typically require human intelligence, such as visual perception, speech recognition, decision-making, and natural language processing.\n",
    "\n",
    "> ML (Machine Learning) is a subset of AI that involves training computer algorithms to make predictions or decisions based on data. ML algorithms can learn and improve over time as they are exposed to more data.\n",
    "\n",
    "> DL (Deep Learning) is a type of ML that uses artificial neural networks, which are modeled after the human brain, to learn and make predictions based on complex data. DL algorithms can be trained to perform tasks such as image recognition, speech recognition, and natural language processing.\n",
    "\n",
    "> DS (Data Science) is an interdisciplinary field that involves using statistical and computational methods to extract insights and knowledge from data. Data science involves a wide range of activities, including data collection, data cleaning, data analysis, data visualization, and machine learning.\n",
    "\n",
    "> In summary, AI is a broad field that includes ML and DL, while DS is a related field that involves using statistical and computational methods to analyze data. ML is a subset of AI that involves training algorithms to make predictions or decisions based on data, while DL is a type of ML that uses artificial neural networks to learn and make predictions based on complex data."
   ]
  },
  {
   "attachments": {},
   "cell_type": "markdown",
   "metadata": {},
   "source": [
    "# Q5: What are the main differences between supervised, unsupervised, and semi-supervised learning?"
   ]
  },
  {
   "attachments": {},
   "cell_type": "markdown",
   "metadata": {},
   "source": [
    "> The main differences between supervised, unsupervised, and semi-supervised learning are:\n",
    "\n",
    "- Supervised learning requires labeled data, where both the inputs (features) and outputs (labels) are known. The goal is to predict the correct output given new inputs that have not been seen before. In contrast, unsupervised learning does not require labeled data, and the goal is to discover hidden patterns, structures, or relationships in the data without prior knowledge of what the output should be.\n",
    "\n",
    "- Unsupervised learning does not require labeled data, and the goal is to discover hidden patterns, structures, or relationships in the data without prior knowledge of what the output should be. Clustering is an example of unsupervised learning where the algorithm groups similar data points together based on their features.\n",
    "\n",
    "- Semi-supervised learning is a combination of both supervised and unsupervised learning. It uses both labeled and unlabeled data to train the algorithm. The goal is to improve the performance of the model by leveraging the information from the unlabeled data to improve the accuracy of the predictions on the labeled data.\n",
    "\n",
    "- Supervised learning algorithms are typically used for prediction or classification tasks, such as predicting customer churn or classifying images. Unsupervised learning algorithms are used for tasks such as clustering or dimensionality reduction. Semi-supervised learning algorithms are used when there is limited labeled data, and leveraging the unlabeled data can help improve the accuracy of the model.\n",
    "\n",
    "> In summary, supervised learning requires labeled data and is used for prediction or classification tasks, unsupervised learning does not require labeled data and is used for discovering hidden patterns or structures, and semi-supervised learning is a combination of both supervised and unsupervised learning and is used when there is limited labeled data.\n"
   ]
  },
  {
   "attachments": {},
   "cell_type": "markdown",
   "metadata": {},
   "source": [
    "# Q6: What is train, test and validation split? Explain the importance of each term."
   ]
  },
  {
   "attachments": {},
   "cell_type": "markdown",
   "metadata": {},
   "source": [
    ">Train, test, and validation split is a technique used in machine learning to evaluate and validate the performance of a model. It involves dividing the dataset into three subsets: a training set, a testing set, and a validation set.\n",
    "\n",
    ">The training set is used to train the model by adjusting its parameters to minimize the error on the training data. The testing set is used to evaluate the performance of the model on new, unseen data. The validation set is used to fine-tune the hyperparameters of the model, such as the learning rate, regularization strength, or number of hidden layers.\n",
    "\n",
    ">The importance of each subset is as follows:\n",
    "\n",
    "- Training set: The training set is the subset of the data used to train the model by adjusting its parameters to minimize the error on the training data. The model learns from the patterns in the training set and tries to generalize them to new, unseen data. A large training set helps the model learn a more accurate representation of the data and reduces the risk of overfitting.\n",
    "\n",
    "- Testing set: The testing set is the subset of the data used to evaluate the performance of the model on new, unseen data. The testing set is used to estimate the generalization error, which is the error rate on new, unseen data. The testing set should be large enough to provide a reliable estimate of the model's performance but should not be too large to prevent overfitting.\n",
    "\n",
    "- Validation set: The validation set is the subset of the data used to fine-tune the hyperparameters of the model. The hyperparameters are not learned from the training data but are set by the user. The validation set is used to select the best set of hyperparameters that minimize the error on the validation set. The validation set should be used sparingly to prevent overfitting to the validation data.\n",
    "\n",
    ">In summary, the train, test, and validation split is a technique used in machine learning to evaluate and validate the performance of a model. The training set is used to train the model, the testing set is used to evaluate the performance of the model, and the validation set is used to fine-tune the hyperparameters of the model.\n",
    "\n",
    "\n",
    "\n",
    "\n",
    "\n"
   ]
  },
  {
   "attachments": {},
   "cell_type": "markdown",
   "metadata": {},
   "source": [
    "# Q7: How can unsupervised learning be used in anomaly detection?"
   ]
  },
  {
   "attachments": {},
   "cell_type": "markdown",
   "metadata": {},
   "source": [
    ">Unsupervised learning can be used in anomaly detection by identifying patterns or structures in the data that deviate significantly from the norm. Anomaly detection is the task of identifying rare events or outliers in a dataset.\n",
    "\n",
    ">One common approach to anomaly detection using unsupervised learning is to use clustering algorithms such as k-means, DBSCAN, or hierarchical clustering. These algorithms group similar data points together based on their features and can identify clusters that are significantly different from the rest of the data.\n",
    "\n",
    ">Another approach is to use density-based algorithms such as Local Outlier Factor (LOF) or Isolation Forest. These algorithms estimate the local density of data points and identify points with a low density as anomalies.\n",
    "\n",
    ">Autoencoders, which are a type of neural network, can also be used for anomaly detection. An autoencoder consists of an encoder network that maps the input data to a low-dimensional representation and a decoder network that reconstructs the original data from the low-dimensional representation. Anomalies can be detected by comparing the difference between the input data and the reconstructed data.\n",
    "\n",
    ">In all these approaches, unsupervised learning is used because there is no prior knowledge of what the anomalies should look like. The algorithms are trained on normal data and are able to detect anomalies that deviate significantly from the norm. The advantage of using unsupervised learning for anomaly detection is that it does not require labeled data and can detect novel anomalies that were not seen during training."
   ]
  },
  {
   "attachments": {},
   "cell_type": "markdown",
   "metadata": {},
   "source": [
    "# Q8: List down some commonly used supervised learning algorithms and unsupervised learning algorithms."
   ]
  },
  {
   "attachments": {},
   "cell_type": "markdown",
   "metadata": {},
   "source": [
    ">Commonly used supervised learning algorithms:\n",
    "\n",
    "- Linear regression\n",
    "- Logistic regression\n",
    "- Decision trees\n",
    "- Random forests\n",
    "- Support vector machines (SVM)\n",
    "- K-nearest neighbors (KNN)\n",
    "- Naive Bayes\n",
    "- Neural networks (including deep learning)\n",
    "\n",
    ">Commonly used unsupervised learning algorithms:\n",
    "\n",
    "- K-means clustering\n",
    "- Hierarchical clustering\n",
    "- Density-based clustering (e.g. DBSCAN)\n",
    "- Principal component analysis (PCA)\n",
    "- Singular value decomposition (SVD)\n",
    "- Independent component analysis (ICA)\n",
    "- Autoencoders\n",
    "- Gaussian mixture models (GMM)"
   ]
  }
 ],
 "metadata": {
  "language_info": {
   "name": "python"
  },
  "orig_nbformat": 4
 },
 "nbformat": 4,
 "nbformat_minor": 2
}
